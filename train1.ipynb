{
 "cells": [
  {
   "cell_type": "code",
   "execution_count": 29,
   "metadata": {},
   "outputs": [],
   "source": [
    "#Installing Dependencies\n",
    "\n",
    "import numpy as np\n",
    "import pandas as pd\n",
    "import os\n",
    "import pickle\n",
    "import cv2\n",
    "\n",
    "from sklearn.model_selection import train_test_split\n",
    "\n",
    "from keras.utils import load_img\n",
    "from keras.models import Sequential\n",
    "from keras.layers.convolutional import Convolution2D\n",
    "from keras.layers.pooling import MaxPooling2D\n",
    "from keras.layers.core import Flatten, Dense, Activation, Dropout"
   ]
  },
  {
   "cell_type": "code",
   "execution_count": 4,
   "metadata": {},
   "outputs": [],
   "source": [
    "#Pre-Processing\n",
    "\n",
    "X_train = []\n",
    "y_train = []\n",
    "\n",
    "input_size = (96, 96)"
   ]
  },
  {
   "cell_type": "code",
   "execution_count": 5,
   "metadata": {},
   "outputs": [],
   "source": [
    "folderpath = '/Users/shubhvashishth/Downloads/TrainingSet/Undistorted'"
   ]
  },
  {
   "cell_type": "code",
   "execution_count": 13,
   "metadata": {},
   "outputs": [
    {
     "name": "stdout",
     "output_type": "stream",
     "text": [
      "Trainset: Undistorted loaded...\n"
     ]
    }
   ],
   "source": [
    "for filename in os.listdir(folderpath):\n",
    "    imagepath = folderpath + '/' + filename\n",
    "    img = load_img(imagepath, target_size = input_size)\n",
    "    X_train.append((1/255)*np.asarray(img))\n",
    "    # compute the Laplacian of the image and then return the focus\n",
    "    img2 = cv2.imread(imagepath)\n",
    "    gray = cv2.cvtColor(img2, cv2.COLOR_BGR2RGB)\n",
    "    blur_map = cv2.Laplacian(gray, cv2.CV_64F)\n",
    "    score = np.var(blur_map)\n",
    "    y_train.append(score)\n",
    "print(\"Trainset: Undistorted loaded...\")"
   ]
  },
  {
   "cell_type": "code",
   "execution_count": 17,
   "metadata": {},
   "outputs": [],
   "source": [
    "folderpath = '/Users/shubhvashishth/Downloads/TrainingSet/Artificially-Blurred'"
   ]
  },
  {
   "cell_type": "code",
   "execution_count": 18,
   "metadata": {},
   "outputs": [
    {
     "name": "stdout",
     "output_type": "stream",
     "text": [
      "Trainset: Artificially Blurred loaded...\n"
     ]
    }
   ],
   "source": [
    "for filename in os.listdir(folderpath):\n",
    "    imagepath = folderpath + '/' + filename\n",
    "    img = load_img(imagepath, target_size = input_size)\n",
    "    X_train.append((1/255)*np.asarray(img))\n",
    "    # compute the Laplacian of the image and then return the focus\n",
    "    img2 = cv2.imread(imagepath)\n",
    "    gray = cv2.cvtColor(img2, cv2.COLOR_BGR2RGB)\n",
    "    blur_map = cv2.Laplacian(gray, cv2.CV_64F)\n",
    "    score = np.var(blur_map)\n",
    "    y_train.append(score)\n",
    "print(\"Trainset: Artificially Blurred loaded...\")"
   ]
  },
  {
   "cell_type": "code",
   "execution_count": 21,
   "metadata": {},
   "outputs": [],
   "source": [
    "folderpath = '/Users/shubhvashishth/Downloads/TrainingSet/Naturally-Blurred'"
   ]
  },
  {
   "cell_type": "code",
   "execution_count": 22,
   "metadata": {},
   "outputs": [
    {
     "name": "stdout",
     "output_type": "stream",
     "text": [
      "Trainset: Naturally Blurred loaded...\n"
     ]
    }
   ],
   "source": [
    "for filename in os.listdir(folderpath):\n",
    "    imagepath = folderpath + '/' + filename\n",
    "    img = load_img(imagepath, target_size = input_size)\n",
    "    X_train.append((1/255)*np.asarray(img))\n",
    "    # compute the Laplacian of the image and then return the focus\n",
    "    img2 = cv2.imread(imagepath)\n",
    "    gray = cv2.cvtColor(img2, cv2.COLOR_BGR2RGB)\n",
    "    blur_map = cv2.Laplacian(gray, cv2.CV_64F)\n",
    "    score = np.var(blur_map)\n",
    "    y_train.append(score)\n",
    "print(\"Trainset: Naturally Blurred loaded...\")"
   ]
  },
  {
   "cell_type": "code",
   "execution_count": 27,
   "metadata": {},
   "outputs": [],
   "source": [
    "#Converting the training data to a pickel file\n",
    "\n",
    "with open('X_train.pkl', 'wb') as picklefile:\n",
    "    pickle.dump(X_train, picklefile)"
   ]
  },
  {
   "cell_type": "code",
   "execution_count": 124,
   "metadata": {},
   "outputs": [],
   "source": [
    "with open('y_train.pkl', 'wb') as picklefile:\n",
    "    pickle.dump(y_train, picklefile)"
   ]
  },
  {
   "cell_type": "code",
   "execution_count": 108,
   "metadata": {},
   "outputs": [],
   "source": [
    "# Defining the CNN architecture\n",
    "\n",
    "model = Sequential()\n",
    "\n",
    "# Layer 1\n",
    "model.add(Convolution2D(32, (5, 5), input_shape=(input_size[0], input_size[1], 3)))\n",
    "model.add(Activation(\"relu\"))\n",
    "model.add(MaxPooling2D(pool_size=(2, 2)))\n",
    "\n",
    "# Layer 2\n",
    "model.add(Convolution2D(64, (5, 5)))\n",
    "model.add(Activation(\"relu\"))\n",
    "model.add(MaxPooling2D(pool_size=(2, 2)))\n",
    "\n",
    "model.add(Flatten())\n",
    "\n",
    "# Layer 3\n",
    "model.add(Dense(1024))\n",
    "model.add(Activation(\"relu\"))\n",
    "model.add(Dropout(0.5))\n",
    "\n",
    "# Layer 4\n",
    "\n",
    "model.add(Dense(512))\n",
    "model.add(Activation(\"relu\"))\n",
    "model.add(Dropout(0.5))\n",
    "\n",
    "model.add(Flatten())\n",
    "model.add(Dense(128, activation='relu'))\n",
    "model.add(Dropout(0.5))\n",
    "model.add(Dense(1, activation='linear'))\n",
    "\n",
    "# Compile the model\n",
    "model.compile(loss='mean_squared_error', optimizer='adam',metrics=['mae'])\n",
    "\n"
   ]
  },
  {
   "cell_type": "code",
   "execution_count": 109,
   "metadata": {},
   "outputs": [
    {
     "name": "stdout",
     "output_type": "stream",
     "text": [
      "Model: \"sequential_9\"\n",
      "_________________________________________________________________\n",
      " Layer (type)                Output Shape              Param #   \n",
      "=================================================================\n",
      " conv2d_15 (Conv2D)          (None, 92, 92, 32)        2432      \n",
      "                                                                 \n",
      " activation_29 (Activation)  (None, 92, 92, 32)        0         \n",
      "                                                                 \n",
      " max_pooling2d_15 (MaxPoolin  (None, 46, 46, 32)       0         \n",
      " g2D)                                                            \n",
      "                                                                 \n",
      " conv2d_16 (Conv2D)          (None, 42, 42, 64)        51264     \n",
      "                                                                 \n",
      " activation_30 (Activation)  (None, 42, 42, 64)        0         \n",
      "                                                                 \n",
      " max_pooling2d_16 (MaxPoolin  (None, 21, 21, 64)       0         \n",
      " g2D)                                                            \n",
      "                                                                 \n",
      " flatten_14 (Flatten)        (None, 28224)             0         \n",
      "                                                                 \n",
      " dense_28 (Dense)            (None, 1024)              28902400  \n",
      "                                                                 \n",
      " activation_31 (Activation)  (None, 1024)              0         \n",
      "                                                                 \n",
      " dropout_21 (Dropout)        (None, 1024)              0         \n",
      "                                                                 \n",
      " dense_29 (Dense)            (None, 512)               524800    \n",
      "                                                                 \n",
      " activation_32 (Activation)  (None, 512)               0         \n",
      "                                                                 \n",
      " dropout_22 (Dropout)        (None, 512)               0         \n",
      "                                                                 \n",
      " flatten_15 (Flatten)        (None, 512)               0         \n",
      "                                                                 \n",
      " dense_30 (Dense)            (None, 128)               65664     \n",
      "                                                                 \n",
      " dropout_23 (Dropout)        (None, 128)               0         \n",
      "                                                                 \n",
      " dense_31 (Dense)            (None, 1)                 129       \n",
      "                                                                 \n",
      "=================================================================\n",
      "Total params: 29,546,689\n",
      "Trainable params: 29,546,689\n",
      "Non-trainable params: 0\n",
      "_________________________________________________________________\n"
     ]
    }
   ],
   "source": [
    "model.summary()"
   ]
  },
  {
   "cell_type": "code",
   "execution_count": 111,
   "metadata": {},
   "outputs": [],
   "source": [
    "def normalize_list(lst):\n",
    "    min_val = min(lst)\n",
    "    max_val = max(lst)\n",
    "    range_val = max_val - min_val\n",
    "    normalized_lst = [(x - min_val) / range_val for x in lst]\n",
    "    return normalized_lst"
   ]
  },
  {
   "cell_type": "code",
   "execution_count": 112,
   "metadata": {},
   "outputs": [],
   "source": [
    "normal_y = normalize_list(y_train)"
   ]
  },
  {
   "cell_type": "code",
   "execution_count": 113,
   "metadata": {},
   "outputs": [],
   "source": [
    "train_x = np.asarray(X_train)\n",
    "train_y = np.asarray(normal_y)"
   ]
  },
  {
   "cell_type": "code",
   "execution_count": 114,
   "metadata": {},
   "outputs": [],
   "source": [
    "x_training, x_testing, y_training, y_testing = train_test_split(train_x, train_y, test_size=0.2, random_state=42)"
   ]
  },
  {
   "cell_type": "code",
   "execution_count": 115,
   "metadata": {},
   "outputs": [
    {
     "name": "stdout",
     "output_type": "stream",
     "text": [
      "Epoch 1/50\n"
     ]
    },
    {
     "name": "stderr",
     "output_type": "stream",
     "text": [
      "2023-04-25 22:53:27.980940: I tensorflow/core/grappler/optimizers/custom_graph_optimizer_registry.cc:114] Plugin optimizer for device_type GPU is enabled.\n"
     ]
    },
    {
     "name": "stdout",
     "output_type": "stream",
     "text": [
      "25/25 [==============================] - 3s 97ms/step - loss: 0.1370 - mae: 0.1541\n",
      "Epoch 2/50\n",
      "25/25 [==============================] - 2s 95ms/step - loss: 0.0074 - mae: 0.0502\n",
      "Epoch 3/50\n",
      "25/25 [==============================] - 2s 97ms/step - loss: 0.0080 - mae: 0.0507\n",
      "Epoch 4/50\n",
      "25/25 [==============================] - 2s 96ms/step - loss: 0.0082 - mae: 0.0566\n",
      "Epoch 5/50\n",
      "25/25 [==============================] - 2s 89ms/step - loss: 0.0081 - mae: 0.0563\n",
      "Epoch 6/50\n",
      "25/25 [==============================] - 2s 89ms/step - loss: 0.0080 - mae: 0.0547\n",
      "Epoch 7/50\n",
      "25/25 [==============================] - 2s 86ms/step - loss: 0.0080 - mae: 0.0569\n",
      "Epoch 8/50\n",
      "25/25 [==============================] - 2s 88ms/step - loss: 0.0083 - mae: 0.0575\n",
      "Epoch 9/50\n",
      "25/25 [==============================] - 2s 87ms/step - loss: 0.0080 - mae: 0.0555\n",
      "Epoch 10/50\n",
      "25/25 [==============================] - 2s 87ms/step - loss: 0.0075 - mae: 0.0531\n",
      "Epoch 11/50\n",
      "25/25 [==============================] - 2s 91ms/step - loss: 0.0080 - mae: 0.0557\n",
      "Epoch 12/50\n",
      "25/25 [==============================] - 2s 90ms/step - loss: 0.0080 - mae: 0.0570\n",
      "Epoch 13/50\n",
      "25/25 [==============================] - 2s 88ms/step - loss: 0.0078 - mae: 0.0543\n",
      "Epoch 14/50\n",
      "25/25 [==============================] - 2s 88ms/step - loss: 0.0077 - mae: 0.0557\n",
      "Epoch 15/50\n",
      "25/25 [==============================] - 2s 87ms/step - loss: 0.0072 - mae: 0.0504\n",
      "Epoch 16/50\n",
      "25/25 [==============================] - 2s 88ms/step - loss: 0.0085 - mae: 0.0570\n",
      "Epoch 17/50\n",
      "25/25 [==============================] - 2s 88ms/step - loss: 0.0078 - mae: 0.0554\n",
      "Epoch 18/50\n",
      "25/25 [==============================] - 2s 96ms/step - loss: 0.0079 - mae: 0.0499\n",
      "Epoch 19/50\n",
      "25/25 [==============================] - 2s 88ms/step - loss: 0.0076 - mae: 0.0558\n",
      "Epoch 20/50\n",
      "25/25 [==============================] - 2s 94ms/step - loss: 0.0075 - mae: 0.0542\n",
      "Epoch 21/50\n",
      "25/25 [==============================] - 2s 92ms/step - loss: 0.0072 - mae: 0.0506\n",
      "Epoch 22/50\n",
      "25/25 [==============================] - 2s 95ms/step - loss: 0.0071 - mae: 0.0526\n",
      "Epoch 23/50\n",
      "25/25 [==============================] - 2s 92ms/step - loss: 0.0068 - mae: 0.0487\n",
      "Epoch 24/50\n",
      "25/25 [==============================] - 2s 94ms/step - loss: 0.0070 - mae: 0.0505\n",
      "Epoch 25/50\n",
      "25/25 [==============================] - 3s 106ms/step - loss: 0.0064 - mae: 0.0473\n",
      "Epoch 26/50\n",
      "25/25 [==============================] - 2s 91ms/step - loss: 0.0069 - mae: 0.0495\n",
      "Epoch 27/50\n",
      "25/25 [==============================] - 2s 89ms/step - loss: 0.0060 - mae: 0.0464\n",
      "Epoch 28/50\n",
      "25/25 [==============================] - 2s 90ms/step - loss: 0.0058 - mae: 0.0453\n",
      "Epoch 29/50\n",
      "25/25 [==============================] - 2s 87ms/step - loss: 0.0053 - mae: 0.0427\n",
      "Epoch 30/50\n",
      "25/25 [==============================] - 2s 97ms/step - loss: 0.0051 - mae: 0.0429\n",
      "Epoch 31/50\n",
      "25/25 [==============================] - 2s 91ms/step - loss: 0.0045 - mae: 0.0387\n",
      "Epoch 32/50\n",
      "25/25 [==============================] - 2s 93ms/step - loss: 0.0045 - mae: 0.0392\n",
      "Epoch 33/50\n",
      "25/25 [==============================] - 2s 93ms/step - loss: 0.0044 - mae: 0.0393\n",
      "Epoch 34/50\n",
      "25/25 [==============================] - 2s 93ms/step - loss: 0.0043 - mae: 0.0373\n",
      "Epoch 35/50\n",
      "25/25 [==============================] - 2s 90ms/step - loss: 0.0042 - mae: 0.0372\n",
      "Epoch 36/50\n",
      "25/25 [==============================] - 2s 90ms/step - loss: 0.0040 - mae: 0.0358\n",
      "Epoch 37/50\n",
      "25/25 [==============================] - 2s 96ms/step - loss: 0.0039 - mae: 0.0357\n",
      "Epoch 38/50\n",
      "25/25 [==============================] - 2s 91ms/step - loss: 0.0034 - mae: 0.0318\n",
      "Epoch 39/50\n",
      "25/25 [==============================] - 2s 92ms/step - loss: 0.0034 - mae: 0.0334\n",
      "Epoch 40/50\n",
      "25/25 [==============================] - 2s 92ms/step - loss: 0.0042 - mae: 0.0348\n",
      "Epoch 41/50\n",
      "25/25 [==============================] - 2s 90ms/step - loss: 0.0044 - mae: 0.0377\n",
      "Epoch 42/50\n",
      "25/25 [==============================] - 3s 115ms/step - loss: 0.0033 - mae: 0.0334\n",
      "Epoch 43/50\n",
      "25/25 [==============================] - 2s 99ms/step - loss: 0.0029 - mae: 0.0329\n",
      "Epoch 44/50\n",
      "25/25 [==============================] - 3s 104ms/step - loss: 0.0031 - mae: 0.0313\n",
      "Epoch 45/50\n",
      "25/25 [==============================] - 3s 100ms/step - loss: 0.0028 - mae: 0.0328\n",
      "Epoch 46/50\n",
      "25/25 [==============================] - 3s 120ms/step - loss: 0.0025 - mae: 0.0299\n",
      "Epoch 47/50\n",
      "25/25 [==============================] - 2s 94ms/step - loss: 0.0022 - mae: 0.0302\n",
      "Epoch 48/50\n",
      "25/25 [==============================] - 2s 87ms/step - loss: 0.0023 - mae: 0.0309\n",
      "Epoch 49/50\n",
      "25/25 [==============================] - 2s 89ms/step - loss: 0.0015 - mae: 0.0254\n",
      "Epoch 50/50\n",
      "25/25 [==============================] - 2s 91ms/step - loss: 0.0023 - mae: 0.0289\n",
      "Model training complete...\n"
     ]
    }
   ],
   "source": [
    "model.fit(x_training, y_training, batch_size=32, epochs=50, verbose=1)\n",
    "print(\"Model training complete...\")"
   ]
  },
  {
   "cell_type": "code",
   "execution_count": 117,
   "metadata": {},
   "outputs": [
    {
     "name": "stdout",
     "output_type": "stream",
     "text": [
      "7/7 [==============================] - 0s 22ms/step - loss: 0.0083 - mae: 0.0438\n"
     ]
    }
   ],
   "source": [
    "test_loss, test_mae = model.evaluate(x_testing, y_testing)"
   ]
  },
  {
   "cell_type": "code",
   "execution_count": 118,
   "metadata": {},
   "outputs": [
    {
     "data": {
      "text/plain": [
       "(0.00825471431016922, 0.04382963478565216)"
      ]
     },
     "execution_count": 118,
     "metadata": {},
     "output_type": "execute_result"
    }
   ],
   "source": [
    "test_loss,test_mae"
   ]
  },
  {
   "cell_type": "code",
   "execution_count": 119,
   "metadata": {},
   "outputs": [
    {
     "name": "stdout",
     "output_type": "stream",
     "text": [
      "Accuracy Score: 0.9580107391809656\n"
     ]
    }
   ],
   "source": [
    "# Calculate the accuracy score\n",
    "accuracy_score = 1.0 / (1.0 + test_mae)\n",
    "print(\"Accuracy Score:\", accuracy_score)"
   ]
  },
  {
   "cell_type": "code",
   "execution_count": 120,
   "metadata": {},
   "outputs": [],
   "source": [
    "model.save('model.h5')"
   ]
  },
  {
   "cell_type": "markdown",
   "metadata": {},
   "source": []
  }
 ],
 "metadata": {
  "kernelspec": {
   "display_name": "Apple",
   "language": "python",
   "name": "python3"
  },
  "language_info": {
   "codemirror_mode": {
    "name": "ipython",
    "version": 3
   },
   "file_extension": ".py",
   "mimetype": "text/x-python",
   "name": "python",
   "nbconvert_exporter": "python",
   "pygments_lexer": "ipython3",
   "version": "3.10.9"
  },
  "orig_nbformat": 4
 },
 "nbformat": 4,
 "nbformat_minor": 2
}
