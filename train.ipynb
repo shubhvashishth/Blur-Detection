{
 "cells": [
  {
   "attachments": {},
   "cell_type": "markdown",
   "metadata": {},
   "source": [
    "**Installing depedencies**"
   ]
  },
  {
   "cell_type": "code",
   "execution_count": 11,
   "metadata": {},
   "outputs": [
    {
     "name": "stdout",
     "output_type": "stream",
     "text": [
      "Collecting git+https://github.com/umang-singhal/pydom.git\n",
      "  Cloning https://github.com/umang-singhal/pydom.git to /private/var/folders/zq/19g779nd30zb3pm3q19pm55r0000gn/T/pip-req-build-853l_b17\n",
      "  Running command git clone --filter=blob:none --quiet https://github.com/umang-singhal/pydom.git /private/var/folders/zq/19g779nd30zb3pm3q19pm55r0000gn/T/pip-req-build-853l_b17\n",
      "  Resolved https://github.com/umang-singhal/pydom.git to commit 2554af8d08a80658539f002eae58ece89cbcc6d4\n",
      "  Preparing metadata (setup.py) ... \u001b[?25ldone\n",
      "\u001b[?25hRequirement already satisfied: numpy in /Users/shubhvashishth/miniforge3/envs/Apple/lib/python3.10/site-packages (from pydom==0.1) (1.23.2)\n",
      "Requirement already satisfied: opencv-python in /Users/shubhvashishth/miniforge3/envs/Apple/lib/python3.10/site-packages (from pydom==0.1) (4.7.0.72)\n",
      "Building wheels for collected packages: pydom\n",
      "  Building wheel for pydom (setup.py) ... \u001b[?25ldone\n",
      "\u001b[?25h  Created wheel for pydom: filename=pydom-0.1-py3-none-any.whl size=17988 sha256=72e3461adc97d478e753611d85b6b50d3a5c6cd918ff7ff7e2ed62aa92a487cd\n",
      "  Stored in directory: /private/var/folders/zq/19g779nd30zb3pm3q19pm55r0000gn/T/pip-ephem-wheel-cache-6b6sfwmi/wheels/37/c2/59/e9bf86dcc76ee6a10c3c68a8b0490b77ce2ddaf879f65eca46\n",
      "Successfully built pydom\n",
      "Installing collected packages: pydom\n",
      "Successfully installed pydom-0.1\n"
     ]
    }
   ],
   "source": [
    "!pip install git+https://github.com/umang-singhal/pydom.git"
   ]
  },
  {
   "cell_type": "code",
   "execution_count": 13,
   "metadata": {},
   "outputs": [],
   "source": [
    "import numpy as np\n",
    "import pandas as pd\n",
    "import os\n",
    "import pickle\n",
    "from skimage import io, img_as_float\n",
    "from dom import DOM\n",
    "import cv2\n",
    "\n",
    "from keras.preprocessing import image"
   ]
  },
  {
   "attachments": {},
   "cell_type": "markdown",
   "metadata": {},
   "source": [
    "**Pre-processing**"
   ]
  },
  {
   "cell_type": "code",
   "execution_count": 3,
   "metadata": {},
   "outputs": [],
   "source": [
    "X_train = []\n",
    "y_train = []\n",
    "\n",
    "input_size = (96, 96)"
   ]
  },
  {
   "cell_type": "code",
   "execution_count": 4,
   "metadata": {},
   "outputs": [],
   "source": [
    "folderpath = '/Users/shubhvashishth/Downloads/TrainingSet/Undistorted'"
   ]
  },
  {
   "cell_type": "code",
   "execution_count": 23,
   "metadata": {},
   "outputs": [
    {
     "data": {
      "text/plain": [
       "1.0254615817967183"
      ]
     },
     "execution_count": 23,
     "metadata": {},
     "output_type": "execute_result"
    }
   ],
   "source": [
    "iqa = DOM()\n",
    "img = cv2.imread('/Users/shubhvashishth/Downloads/TrainingSet/Undistorted/DSCN0651.JPG')\n",
    "score = iqa.get_sharpness(img)\n",
    "score"
   ]
  },
  {
   "cell_type": "code",
   "execution_count": 19,
   "metadata": {},
   "outputs": [],
   "source": [
    "img = cv2.imread('/Users/shubhvashishth/Downloads/TrainingSet/Naturally-Blurred/CIMG0112.JPG',cv2.IMREAD_GRAYSCALE)\n",
    "laplacian_var = cv2.Laplacian(img,cv2.CV_64F).var()"
   ]
  },
  {
   "cell_type": "code",
   "execution_count": 20,
   "metadata": {},
   "outputs": [
    {
     "data": {
      "text/plain": [
       "102.47238344296069"
      ]
     },
     "execution_count": 20,
     "metadata": {},
     "output_type": "execute_result"
    }
   ],
   "source": [
    "laplacian_var"
   ]
  },
  {
   "cell_type": "code",
   "execution_count": 26,
   "metadata": {},
   "outputs": [],
   "source": [
    "img2 = cv2.imread('/Users/shubhvashishth/Downloads/TrainingSet/Artificially-Blurred/GaussianH5x5_P1125568.JPG')\n",
    "gray2 = cv2.cvtColor(img2, cv2.COLOR_BGR2RGB)\n",
    "blur_map2 = cv2.Laplacian(gray2, cv2.CV_64F)\n",
    "score2 = np.var(blur_map2)"
   ]
  },
  {
   "cell_type": "code",
   "execution_count": 27,
   "metadata": {},
   "outputs": [
    {
     "data": {
      "text/plain": [
       "53.97711921789673"
      ]
     },
     "execution_count": 27,
     "metadata": {},
     "output_type": "execute_result"
    }
   ],
   "source": [
    "score2"
   ]
  },
  {
   "cell_type": "code",
   "execution_count": null,
   "metadata": {},
   "outputs": [],
   "source": []
  }
 ],
 "metadata": {
  "kernelspec": {
   "display_name": "Apple",
   "language": "python",
   "name": "python3"
  },
  "language_info": {
   "codemirror_mode": {
    "name": "ipython",
    "version": 3
   },
   "file_extension": ".py",
   "mimetype": "text/x-python",
   "name": "python",
   "nbconvert_exporter": "python",
   "pygments_lexer": "ipython3",
   "version": "3.10.9"
  },
  "orig_nbformat": 4
 },
 "nbformat": 4,
 "nbformat_minor": 2
}
